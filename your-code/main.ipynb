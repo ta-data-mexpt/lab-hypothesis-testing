{
 "cells": [
  {
   "cell_type": "markdown",
   "metadata": {},
   "source": [
    "# Before your start:\n",
    "- Read the README.md file\n",
    "- Comment as much as you can and use the resources (README.md file)\n",
    "- Happy learning!"
   ]
  },
  {
   "cell_type": "code",
   "execution_count": 1,
   "metadata": {},
   "outputs": [],
   "source": [
    "# import numpy and pandas\n",
    "import numpy as np\n",
    "import pandas as pd"
   ]
  },
  {
   "cell_type": "markdown",
   "metadata": {},
   "source": [
    "# Challenge 1 - Exploring the Data\n",
    "\n",
    "In this challenge, we will examine all salaries of employees of the City of Chicago. We will start by loading the dataset and examining its contents"
   ]
  },
  {
   "cell_type": "code",
   "execution_count": 2,
   "metadata": {},
   "outputs": [],
   "source": [
    "# Run this code:\n",
    "salaries = pd.read_csv('../Current_Employee_Names__Salaries__and_Position_Titles.csv')"
   ]
  },
  {
   "cell_type": "markdown",
   "metadata": {},
   "source": [
    "Examine the `salaries` dataset using the `head` function below."
   ]
  },
  {
   "cell_type": "code",
   "execution_count": 3,
   "metadata": {},
   "outputs": [
    {
     "output_type": "execute_result",
     "data": {
      "text/plain": "                  Name                              Job Titles  \\\n0    AARON,  JEFFERY M                                SERGEANT   \n1      AARON,  KARINA   POLICE OFFICER (ASSIGNED AS DETECTIVE)   \n2  AARON,  KIMBERLEI R                CHIEF CONTRACT EXPEDITER   \n3  ABAD JR,  VICENTE M                       CIVIL ENGINEER IV   \n4    ABASCAL,  REECE E             TRAFFIC CONTROL AIDE-HOURLY   \n\n         Department Full or Part-Time Salary or Hourly  Typical Hours  \\\n0            POLICE                 F           Salary            NaN   \n1            POLICE                 F           Salary            NaN   \n2  GENERAL SERVICES                 F           Salary            NaN   \n3       WATER MGMNT                 F           Salary            NaN   \n4              OEMC                 P           Hourly           20.0   \n\n   Annual Salary  Hourly Rate  \n0       101442.0          NaN  \n1        94122.0          NaN  \n2       101592.0          NaN  \n3       110064.0          NaN  \n4            NaN        19.86  ",
      "text/html": "<div>\n<style scoped>\n    .dataframe tbody tr th:only-of-type {\n        vertical-align: middle;\n    }\n\n    .dataframe tbody tr th {\n        vertical-align: top;\n    }\n\n    .dataframe thead th {\n        text-align: right;\n    }\n</style>\n<table border=\"1\" class=\"dataframe\">\n  <thead>\n    <tr style=\"text-align: right;\">\n      <th></th>\n      <th>Name</th>\n      <th>Job Titles</th>\n      <th>Department</th>\n      <th>Full or Part-Time</th>\n      <th>Salary or Hourly</th>\n      <th>Typical Hours</th>\n      <th>Annual Salary</th>\n      <th>Hourly Rate</th>\n    </tr>\n  </thead>\n  <tbody>\n    <tr>\n      <th>0</th>\n      <td>AARON,  JEFFERY M</td>\n      <td>SERGEANT</td>\n      <td>POLICE</td>\n      <td>F</td>\n      <td>Salary</td>\n      <td>NaN</td>\n      <td>101442.0</td>\n      <td>NaN</td>\n    </tr>\n    <tr>\n      <th>1</th>\n      <td>AARON,  KARINA</td>\n      <td>POLICE OFFICER (ASSIGNED AS DETECTIVE)</td>\n      <td>POLICE</td>\n      <td>F</td>\n      <td>Salary</td>\n      <td>NaN</td>\n      <td>94122.0</td>\n      <td>NaN</td>\n    </tr>\n    <tr>\n      <th>2</th>\n      <td>AARON,  KIMBERLEI R</td>\n      <td>CHIEF CONTRACT EXPEDITER</td>\n      <td>GENERAL SERVICES</td>\n      <td>F</td>\n      <td>Salary</td>\n      <td>NaN</td>\n      <td>101592.0</td>\n      <td>NaN</td>\n    </tr>\n    <tr>\n      <th>3</th>\n      <td>ABAD JR,  VICENTE M</td>\n      <td>CIVIL ENGINEER IV</td>\n      <td>WATER MGMNT</td>\n      <td>F</td>\n      <td>Salary</td>\n      <td>NaN</td>\n      <td>110064.0</td>\n      <td>NaN</td>\n    </tr>\n    <tr>\n      <th>4</th>\n      <td>ABASCAL,  REECE E</td>\n      <td>TRAFFIC CONTROL AIDE-HOURLY</td>\n      <td>OEMC</td>\n      <td>P</td>\n      <td>Hourly</td>\n      <td>20.0</td>\n      <td>NaN</td>\n      <td>19.86</td>\n    </tr>\n  </tbody>\n</table>\n</div>"
     },
     "metadata": {},
     "execution_count": 3
    }
   ],
   "source": [
    "# Your code here:\n",
    "salaries.head()"
   ]
  },
  {
   "cell_type": "markdown",
   "metadata": {},
   "source": [
    "We see from looking at the `head` function that there is quite a bit of missing data. Let's examine how much missing data is in each column. Produce this output in the cell below"
   ]
  },
  {
   "cell_type": "code",
   "execution_count": 4,
   "metadata": {
    "tags": []
   },
   "outputs": [
    {
     "output_type": "stream",
     "name": "stdout",
     "text": "<class 'pandas.core.frame.DataFrame'>\nRangeIndex: 33183 entries, 0 to 33182\nData columns (total 8 columns):\n #   Column             Non-Null Count  Dtype  \n---  ------             --------------  -----  \n 0   Name               33183 non-null  object \n 1   Job Titles         33183 non-null  object \n 2   Department         33183 non-null  object \n 3   Full or Part-Time  33183 non-null  object \n 4   Salary or Hourly   33183 non-null  object \n 5   Typical Hours      8022 non-null   float64\n 6   Annual Salary      25161 non-null  float64\n 7   Hourly Rate        8022 non-null   float64\ndtypes: float64(3), object(5)\nmemory usage: 2.0+ MB\n"
    }
   ],
   "source": [
    "# Your code here:\n",
    "salaries.info()"
   ]
  },
  {
   "cell_type": "markdown",
   "metadata": {},
   "source": [
    "Let's also look at the count of hourly vs. salaried employees. Write the code in the cell below"
   ]
  },
  {
   "cell_type": "code",
   "execution_count": 23,
   "metadata": {
    "tags": []
   },
   "outputs": [
    {
     "output_type": "stream",
     "name": "stdout",
     "text": "There are 25,161 Salaried employees, and 8,022 Hourly emplooyees.\n"
    }
   ],
   "source": [
    "# Your code here:\n",
    "print('There are {:,} Salaried employees, and {:,} Hourly emplooyees.'.format(salaries['Salary or Hourly'][salaries['Salary or Hourly'] == 'Salary'].count(), salaries['Salary or Hourly'][salaries['Salary or Hourly'] == 'Hourly'].count()))"
   ]
  },
  {
   "cell_type": "markdown",
   "metadata": {},
   "source": [
    "What this information indicates is that the table contains information about two types of employees - salaried and hourly. Some columns apply only to one type of employee while other columns only apply to another kind. This is why there are so many missing values. Therefore, we will not do anything to handle the missing values."
   ]
  },
  {
   "cell_type": "markdown",
   "metadata": {},
   "source": [
    "There are different departments in the city. List all departments and the count of employees in each department."
   ]
  },
  {
   "cell_type": "code",
   "execution_count": 34,
   "metadata": {},
   "outputs": [
    {
     "output_type": "execute_result",
     "data": {
      "text/plain": "['POLICE',\n 'GENERAL SERVICES',\n 'WATER MGMNT',\n 'OEMC',\n 'CITY COUNCIL',\n 'AVIATION',\n 'STREETS & SAN',\n 'FIRE',\n 'FAMILY & SUPPORT',\n 'PUBLIC LIBRARY',\n 'TRANSPORTN',\n \"MAYOR'S OFFICE\",\n 'HEALTH',\n 'BUSINESS AFFAIRS',\n 'LAW',\n 'FINANCE',\n 'CULTURAL AFFAIRS',\n 'COMMUNITY DEVELOPMENT',\n 'PROCUREMENT',\n 'BUILDINGS',\n 'ANIMAL CONTRL',\n 'CITY CLERK',\n 'BOARD OF ELECTION',\n 'DISABILITIES',\n 'HUMAN RESOURCES',\n 'DoIT',\n 'BUDGET & MGMT',\n 'TREASURER',\n 'INSPECTOR GEN',\n 'HUMAN RELATIONS',\n 'COPA',\n 'BOARD OF ETHICS',\n 'POLICE BOARD',\n 'ADMIN HEARNG',\n 'LICENSE APPL COMM']"
     },
     "metadata": {},
     "execution_count": 34
    }
   ],
   "source": [
    "# Your code here:\n",
    "list(salaries.Department.unique())"
   ]
  },
  {
   "cell_type": "markdown",
   "metadata": {},
   "source": [
    "# Challenge 2 - Hypothesis Tests\n",
    "\n",
    "In this section of the lab, we will test whether the hourly wage of all hourly workers is significantly different from $30/hr. Import the correct one sample test function from scipy and perform the hypothesis test for a 95% two sided confidence interval."
   ]
  },
  {
   "cell_type": "code",
   "execution_count": 56,
   "metadata": {
    "tags": []
   },
   "outputs": [
    {
     "output_type": "stream",
     "name": "stdout",
     "text": "Our p-value is 1.823e-94, less than 0.05, thus, we reject the Null Hypothesis and confirm that the hourly wage of all hourly workers is significantly different from $30/hr.\n"
    }
   ],
   "source": [
    "#We will evaluate the significance of the value stated above, with a Z Test (we have more than 30 observations) and based on a p-value. \n",
    "\n",
    "import pandas as pd\n",
    "from scipy import stats\n",
    "from statsmodels.stats import weightstats as stests\n",
    "\n",
    "ztest, pval = stests.ztest(salaries['Hourly Rate'].dropna(), x2=None, value=30, alternative='two-sided')\n",
    "\n",
    "if pval<0.05:\n",
    "    print('Our p-value is {:.04}, less than 0.05, thus, we reject the Null Hypothesis and confirm that the hourly wage of all hourly workers is significantly different from $30/hr.'.format(pval))\n",
    "else:\n",
    "    print('Our p-value is {:.04}, greater than 0.05, thus, we accept the Null Hypothesis and confirm that the hourly wage of all hourly workers is not significantly different from $30/hr.'.format(pval))"
   ]
  },
  {
   "cell_type": "markdown",
   "metadata": {},
   "source": [
    "We are also curious about salaries in the police force. The chief of police in Chicago claimed in a press briefing that salaries this year are higher than last year's mean of $86000/year a year for all salaried employees. Test this one sided hypothesis using a 95% confidence interval.\n",
    "\n",
    "Hint: A one tailed test has a p-value that is half of the two tailed p-value. If our hypothesis is greater than, then to reject, the test statistic must also be positive."
   ]
  },
  {
   "cell_type": "code",
   "execution_count": 58,
   "metadata": {
    "tags": []
   },
   "outputs": [
    {
     "output_type": "stream",
     "name": "stdout",
     "text": "Our p-value is 1.488e-09, less than 0.05, thus, we reject the Null Hypothesis and confirm that salaries this year are higher than last years mean of $86,000 a year for all salaried employees\n"
    }
   ],
   "source": [
    "#Same evaluation, but now we will do a one tailed test. \n",
    "\n",
    "ztest, pval = stests.ztest(salaries['Annual Salary'].dropna(), x2=None, value=86000, alternative='larger')\n",
    "\n",
    "if pval<0.05:\n",
    "    print('Our p-value is {:.04}, less than 0.05, thus, we reject the Null Hypothesis and confirm that salaries this year are higher than last years mean of $86,000 a year for all salaried employees'.format(pval))\n",
    "else:\n",
    "    pprint('Our p-value is {:.04}, greater than 0.05, thus, we accept the Null Hypothesis and confirm that salaries this year are not higher than last years mean of $86,000 a year for all salaried employees'.format(pval))"
   ]
  },
  {
   "cell_type": "markdown",
   "metadata": {},
   "source": [
    "Using the `crosstab` function, find the department that has the most hourly workers. "
   ]
  },
  {
   "cell_type": "code",
   "execution_count": 60,
   "metadata": {},
   "outputs": [
    {
     "output_type": "execute_result",
     "data": {
      "text/plain": "Salary or Hourly       Hourly  Salary\nDepartment                           \nSTREETS & SAN            1862     336\nWATER MGMNT              1513     366\nOEMC                     1273     829\nAVIATION                 1082     547\nGENERAL SERVICES          765     215\nTRANSPORTN                725     415\nPUBLIC LIBRARY            299     716\nFAMILY & SUPPORT          287     328\nCITY COUNCIL               64     347\nFINANCE                    44     516\nLAW                        40     367\nANIMAL CONTRL              19      62\nPOLICE                     10   13404\nMAYOR'S OFFICE              8      77\nBUSINESS AFFAIRS            7     164\nCULTURAL AFFAIRS            7      58\nCOMMUNITY DEVELOPMENT       4     203\nHUMAN RESOURCES             4      75\nHEALTH                      3     485\nPROCUREMENT                 2      90\nFIRE                        2    4639\nBUDGET & MGMT               2      44\nHUMAN RELATIONS             0      16\nINSPECTOR GEN               0      87\nDoIT                        0      99\nLICENSE APPL COMM           0       1\nDISABILITIES                0      28\nCOPA                        0     116\nCITY CLERK                  0      84\nPOLICE BOARD                0       2\nBUILDINGS                   0     269\nBOARD OF ETHICS             0       8\nBOARD OF ELECTION           0     107\nTREASURER                   0      22\nADMIN HEARNG                0      39",
      "text/html": "<div>\n<style scoped>\n    .dataframe tbody tr th:only-of-type {\n        vertical-align: middle;\n    }\n\n    .dataframe tbody tr th {\n        vertical-align: top;\n    }\n\n    .dataframe thead th {\n        text-align: right;\n    }\n</style>\n<table border=\"1\" class=\"dataframe\">\n  <thead>\n    <tr style=\"text-align: right;\">\n      <th>Salary or Hourly</th>\n      <th>Hourly</th>\n      <th>Salary</th>\n    </tr>\n    <tr>\n      <th>Department</th>\n      <th></th>\n      <th></th>\n    </tr>\n  </thead>\n  <tbody>\n    <tr>\n      <th>STREETS &amp; SAN</th>\n      <td>1862</td>\n      <td>336</td>\n    </tr>\n    <tr>\n      <th>WATER MGMNT</th>\n      <td>1513</td>\n      <td>366</td>\n    </tr>\n    <tr>\n      <th>OEMC</th>\n      <td>1273</td>\n      <td>829</td>\n    </tr>\n    <tr>\n      <th>AVIATION</th>\n      <td>1082</td>\n      <td>547</td>\n    </tr>\n    <tr>\n      <th>GENERAL SERVICES</th>\n      <td>765</td>\n      <td>215</td>\n    </tr>\n    <tr>\n      <th>TRANSPORTN</th>\n      <td>725</td>\n      <td>415</td>\n    </tr>\n    <tr>\n      <th>PUBLIC LIBRARY</th>\n      <td>299</td>\n      <td>716</td>\n    </tr>\n    <tr>\n      <th>FAMILY &amp; SUPPORT</th>\n      <td>287</td>\n      <td>328</td>\n    </tr>\n    <tr>\n      <th>CITY COUNCIL</th>\n      <td>64</td>\n      <td>347</td>\n    </tr>\n    <tr>\n      <th>FINANCE</th>\n      <td>44</td>\n      <td>516</td>\n    </tr>\n    <tr>\n      <th>LAW</th>\n      <td>40</td>\n      <td>367</td>\n    </tr>\n    <tr>\n      <th>ANIMAL CONTRL</th>\n      <td>19</td>\n      <td>62</td>\n    </tr>\n    <tr>\n      <th>POLICE</th>\n      <td>10</td>\n      <td>13404</td>\n    </tr>\n    <tr>\n      <th>MAYOR'S OFFICE</th>\n      <td>8</td>\n      <td>77</td>\n    </tr>\n    <tr>\n      <th>BUSINESS AFFAIRS</th>\n      <td>7</td>\n      <td>164</td>\n    </tr>\n    <tr>\n      <th>CULTURAL AFFAIRS</th>\n      <td>7</td>\n      <td>58</td>\n    </tr>\n    <tr>\n      <th>COMMUNITY DEVELOPMENT</th>\n      <td>4</td>\n      <td>203</td>\n    </tr>\n    <tr>\n      <th>HUMAN RESOURCES</th>\n      <td>4</td>\n      <td>75</td>\n    </tr>\n    <tr>\n      <th>HEALTH</th>\n      <td>3</td>\n      <td>485</td>\n    </tr>\n    <tr>\n      <th>PROCUREMENT</th>\n      <td>2</td>\n      <td>90</td>\n    </tr>\n    <tr>\n      <th>FIRE</th>\n      <td>2</td>\n      <td>4639</td>\n    </tr>\n    <tr>\n      <th>BUDGET &amp; MGMT</th>\n      <td>2</td>\n      <td>44</td>\n    </tr>\n    <tr>\n      <th>HUMAN RELATIONS</th>\n      <td>0</td>\n      <td>16</td>\n    </tr>\n    <tr>\n      <th>INSPECTOR GEN</th>\n      <td>0</td>\n      <td>87</td>\n    </tr>\n    <tr>\n      <th>DoIT</th>\n      <td>0</td>\n      <td>99</td>\n    </tr>\n    <tr>\n      <th>LICENSE APPL COMM</th>\n      <td>0</td>\n      <td>1</td>\n    </tr>\n    <tr>\n      <th>DISABILITIES</th>\n      <td>0</td>\n      <td>28</td>\n    </tr>\n    <tr>\n      <th>COPA</th>\n      <td>0</td>\n      <td>116</td>\n    </tr>\n    <tr>\n      <th>CITY CLERK</th>\n      <td>0</td>\n      <td>84</td>\n    </tr>\n    <tr>\n      <th>POLICE BOARD</th>\n      <td>0</td>\n      <td>2</td>\n    </tr>\n    <tr>\n      <th>BUILDINGS</th>\n      <td>0</td>\n      <td>269</td>\n    </tr>\n    <tr>\n      <th>BOARD OF ETHICS</th>\n      <td>0</td>\n      <td>8</td>\n    </tr>\n    <tr>\n      <th>BOARD OF ELECTION</th>\n      <td>0</td>\n      <td>107</td>\n    </tr>\n    <tr>\n      <th>TREASURER</th>\n      <td>0</td>\n      <td>22</td>\n    </tr>\n    <tr>\n      <th>ADMIN HEARNG</th>\n      <td>0</td>\n      <td>39</td>\n    </tr>\n  </tbody>\n</table>\n</div>"
     },
     "metadata": {},
     "execution_count": 60
    }
   ],
   "source": [
    "#As we will see in the output below, the Streets and Sanitation Department is the one with the most hourly-paid workers, makes sense actually. \n",
    " \n",
    "pd.crosstab(salaries['Department'], salaries['Salary or Hourly']).sort_values('Hourly', ascending = False)"
   ]
  },
  {
   "cell_type": "markdown",
   "metadata": {},
   "source": [
    "The workers from the department with the most hourly workers have complained that their hourly wage is less than $35/hour. Using a one sample t-test, test this one-sided hypothesis at the 95% confidence level."
   ]
  },
  {
   "cell_type": "code",
   "execution_count": 67,
   "metadata": {
    "tags": []
   },
   "outputs": [
    {
     "output_type": "stream",
     "name": "stdout",
     "text": "Our p-value is 5.479e-22, less than 0.05, thus, we reject the Null Hypothesis and confirm that Average Hourly Wages this year are less than $35.00\n"
    }
   ],
   "source": [
    "#We are still above the 30 Observation mark, so we will conduct a Z-Test. \n",
    "\n",
    "ztest, pval = stests.ztest(salaries['Hourly Rate'][salaries['Department'] == 'STREETS & SAN'].dropna(), x2=None, value=35, alternative='smaller')\n",
    "\n",
    "if pval<0.05:\n",
    "    print('Our p-value is {:.04}, less than 0.05, thus, we reject the Null Hypothesis and confirm that Average Hourly Wages this year are less than $35.00'.format(pval))\n",
    "else:\n",
    "    print('Our p-value is {:.04}, greater than 0.05, thus, we accept the Null Hypothesis and confirm that Average Hourly Wages this year are not less than $35.00'.format(pval))"
   ]
  },
  {
   "cell_type": "markdown",
   "metadata": {},
   "source": [
    "# Challenge 3 - Constructing Confidence Intervals\n",
    "\n",
    "While testing our hypothesis is a great way to gather empirical evidence for accepting or rejecting the hypothesis, another way to gather evidence is by creating a confidence interval. A confidence interval gives us information about the true mean of the population. So for a 95% confidence interval, we are 95% sure that the mean of the population is within the confidence interval. \n",
    ").\n",
    "\n",
    "To read more about confidence intervals, click [here](https://en.wikipedia.org/wiki/Confidence_interval).\n",
    "\n",
    "\n",
    "In the cell below, we will construct a 95% confidence interval for the mean hourly wage of all hourly workers. \n",
    "\n",
    "The confidence interval is computed in SciPy using the `t.interval` function. You can read more about this function [here](https://docs.scipy.org/doc/scipy-0.14.0/reference/generated/scipy.stats.t.html).\n",
    "\n",
    "To compute the confidence interval of the hourly wage, use the 0.95 for the confidence level, number of rows - 1 for degrees of freedom, the mean of the sample for the location parameter and the standard error for the scale. The standard error can be computed using [this](https://docs.scipy.org/doc/scipy/reference/generated/scipy.stats.sem.html) function in SciPy."
   ]
  },
  {
   "cell_type": "code",
   "execution_count": 73,
   "metadata": {},
   "outputs": [
    {
     "output_type": "execute_result",
     "data": {
      "text/plain": "(32.52345834488425, 32.78855771628024, 33.05365708767623)"
     },
     "metadata": {},
     "execution_count": 73
    }
   ],
   "source": [
    "#Let's define a function that will output a 95% Confidence Interval around the Mean of the Dataset. \n",
    "import scipy.stats\n",
    "\n",
    "def mean_confidence_interval(data, confidence=0.95):\n",
    "    a = 1.0 * np.array(data)\n",
    "    n = len(a)\n",
    "    m, se = np.mean(a), scipy.stats.sem(a)\n",
    "    h = se * scipy.stats.t.ppf((1 + confidence) / 2., n-1)\n",
    "    return m-h, m, m+h\n",
    "\n",
    "#Now let's define the 'data' input variable. \n",
    "\n",
    "hourly_ds = salaries['Hourly Rate'][salaries['Salary or Hourly']=='Hourly']\n",
    "\n",
    "#Finally, let's input the exact data for study. \n",
    "\n",
    "mean_confidence_interval(hourly_ds)"
   ]
  },
  {
   "cell_type": "markdown",
   "metadata": {},
   "source": [
    "Now construct the 95% confidence interval for all salaried employeed in the police in the cell below."
   ]
  },
  {
   "cell_type": "code",
   "execution_count": 74,
   "metadata": {},
   "outputs": [
    {
     "output_type": "execute_result",
     "data": {
      "text/plain": "(86177.05631531784, 86486.41450313339, 86795.77269094894)"
     },
     "metadata": {},
     "execution_count": 74
    }
   ],
   "source": [
    "#Same path, different Dataset. \n",
    "\n",
    "salaries_ds = salaries['Annual Salary'][salaries['Department'] == 'POLICE'][salaries['Salary or Hourly'] =='Salary']\n",
    "\n",
    "mean_confidence_interval(salaries_ds)"
   ]
  },
  {
   "cell_type": "markdown",
   "metadata": {},
   "source": [
    "# Challenge 4 - Hypothesis Tests of Proportions\n",
    "\n",
    "Another type of one sample test is a hypothesis test of proportions. In this test, we examine whether the proportion of a group in our sample is significantly different than a fraction. \n",
    "\n",
    "You can read more about one sample proportion tests [here](http://sphweb.bumc.bu.edu/otlt/MPH-Modules/BS/SAS/SAS6-CategoricalData/SAS6-CategoricalData2.html).\n",
    "\n",
    "In the cell below, use the `proportions_ztest` function from `statsmodels` to perform a hypothesis test that will determine whether the number of hourly workers in the City of Chicago is significantly different from 25% at the 95% confidence level."
   ]
  },
  {
   "cell_type": "code",
   "execution_count": 77,
   "metadata": {
    "tags": []
   },
   "outputs": [
    {
     "output_type": "stream",
     "name": "stdout",
     "text": "Our p-value is 0.0004481, less than 0.05, thus, we reject the Null Hypothesis and confirm that the number of hourly workers in the City of Chicago is significantly different from 25% at the 95% confidence level\n"
    }
   ],
   "source": [
    "#First we must import our needed Module. \n",
    "\n",
    "from statsmodels.stats.proportion import proportions_ztest\n",
    "\n",
    "#Now we obtain our 'count' and 'nob' parameters, as the Test defines. \n",
    "\n",
    "count = salaries['Department'][salaries['Salary or Hourly']=='Hourly']\n",
    "nobs = salaries['Department']\n",
    "\n",
    "#Finally, the Test happens (I will conduct it as the ones I've been doing in the past exercises). \n",
    "\n",
    "ztest, pval = proportions_ztest(len(count),len(nobs), value= 0.25)\n",
    "\n",
    "if pval<0.05:\n",
    "    print('Our p-value is {:.04}, less than 0.05, thus, we reject the Null Hypothesis and confirm that the number of hourly workers in the City of Chicago is significantly different from 25% at the 95% confidence level'.format(pval))\n",
    "else:\n",
    "    print('Our p-value is {:.04}, greater than 0.05, thus, we accept the Null Hypothesis and confirm that the number of hourly workers in the City of Chicago is not significantly different from 25% at the 95% confidence level'.format(pval))"
   ]
  },
  {
   "cell_type": "code",
   "execution_count": null,
   "metadata": {},
   "outputs": [],
   "source": []
  }
 ],
 "metadata": {
  "kernelspec": {
   "display_name": "Python 3.7.6 64-bit ('anaconda3': virtualenv)",
   "language": "python",
   "name": "python37664bitanaconda3virtualenv0697af1ee67a458e9253591065064715"
  },
  "language_info": {
   "codemirror_mode": {
    "name": "ipython",
    "version": 3
   },
   "file_extension": ".py",
   "mimetype": "text/x-python",
   "name": "python",
   "nbconvert_exporter": "python",
   "pygments_lexer": "ipython3",
   "version": "3.7.6-final"
  }
 },
 "nbformat": 4,
 "nbformat_minor": 2
}